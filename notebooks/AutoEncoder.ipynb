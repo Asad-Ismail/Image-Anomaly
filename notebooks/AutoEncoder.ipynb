{
 "cells": [
  {
   "cell_type": "code",
   "execution_count": null,
   "id": "d2c7f45a",
   "metadata": {},
   "outputs": [],
   "source": [
    "!pip install pytorch-lightning\n",
    "!pip install tensorboard\n",
    "!pip install timm"
   ]
  },
  {
   "cell_type": "code",
   "execution_count": null,
   "id": "4a8ec369",
   "metadata": {},
   "outputs": [],
   "source": [
    "## Standard libraries\n",
    "import os\n",
    "import json\n",
    "import math\n",
    "import numpy as np\n",
    "\n",
    "## Imports for plotting\n",
    "import matplotlib.pyplot as plt\n",
    "%matplotlib inline\n",
    "from IPython.display import set_matplotlib_formats\n",
    "set_matplotlib_formats('svg', 'pdf') # For export\n",
    "from matplotlib.colors import to_rgb\n",
    "import matplotlib\n",
    "matplotlib.rcParams['lines.linewidth'] = 2.0\n",
    "import seaborn as sns\n",
    "sns.reset_orig()\n",
    "sns.set()\n",
    "\n",
    "## Progress bar\n",
    "from tqdm.notebook import tqdm\n",
    "\n",
    "## PyTorch\n",
    "import torch\n",
    "import torch.nn as nn\n",
    "import torch.nn.functional as F\n",
    "import torch.utils.data as data\n",
    "import torch.optim as optim\n",
    "# Torchvision\n",
    "import torchvision\n",
    "from torchvision import transforms\n",
    "# PyTorch Lightning\n",
    "\n",
    "import pytorch_lightning as pl\n",
    "from pytorch_lightning.callbacks import LearningRateMonitor, ModelCheckpoint\n",
    "\n",
    "# Tensorboard extension (for visualization purposes later)\n",
    "from torch.utils.tensorboard import SummaryWriter\n",
    "%load_ext tensorboard\n",
    "\n",
    "# Setting the seed\n",
    "pl.seed_everything(42)\n",
    "\n",
    "# Ensure that all operations are deterministic on GPU (if used) for reproducibility\n",
    "torch.backends.cudnn.deterministic = True\n",
    "torch.backends.cudnn.benchmark = False\n",
    "\n",
    "device = torch.device('cuda:0') if torch.cuda.is_available() else torch.device(\"cpu\")\n",
    "print(\"Device:\", device)"
   ]
  },
  {
   "cell_type": "code",
   "execution_count": null,
   "id": "f2c5d39c",
   "metadata": {},
   "outputs": [],
   "source": [
    "#!pip install pytorch-lightning"
   ]
  },
  {
   "cell_type": "code",
   "execution_count": null,
   "id": "a33c441d",
   "metadata": {},
   "outputs": [],
   "source": [
    "from torchvision import datasets, transforms"
   ]
  },
  {
   "cell_type": "code",
   "execution_count": null,
   "id": "a8782801",
   "metadata": {},
   "outputs": [],
   "source": [
    "train_dir = '../AnamolyData/train/images' # load from Kaggle\n",
    "val_dir= '../AnamolyData/val/images'\n",
    "transform = transforms.Compose([transforms.Resize((512,512)),\n",
    "                                transforms.ToTensor(),\n",
    "                                transforms.Normalize([0.5, 0.5, 0.5], \n",
    "                                                            [0.5, 0.5, 0.5])\n",
    "                               ])\n",
    "train_dataset = datasets.ImageFolder(train_dir, transform=transform)\n",
    "train_loader = torch.utils.data.DataLoader(train_dataset, batch_size=18, shuffle=True,drop_last=True) \n",
    "val_dataset = datasets.ImageFolder(val_dir, transform=transform)\n",
    "val_loader = torch.utils.data.DataLoader(val_dataset, batch_size=18, shuffle=True,drop_last=True)\n",
    "def get_train_images(num):\n",
    "    return torch.stack([train_dataset[i][0] for i in range(num)], dim=0)"
   ]
  },
  {
   "cell_type": "code",
   "execution_count": null,
   "id": "c71176b3",
   "metadata": {},
   "outputs": [],
   "source": [
    "for batch in train_loader:\n",
    "    print(batch[0].shape)\n",
    "    print(batch[0].min())\n",
    "    print(batch[0].max())\n",
    "    break"
   ]
  },
  {
   "cell_type": "code",
   "execution_count": null,
   "id": "84e07b63",
   "metadata": {},
   "outputs": [],
   "source": [
    "import torch\n",
    "import timm"
   ]
  },
  {
   "cell_type": "code",
   "execution_count": null,
   "id": "8c361d4a",
   "metadata": {},
   "outputs": [],
   "source": [
    "model_names = timm.list_models('*vgg*')\n",
    "model_names"
   ]
  },
  {
   "cell_type": "code",
   "execution_count": null,
   "id": "d8376bf2",
   "metadata": {},
   "outputs": [],
   "source": [
    "encoder = timm.create_model('vgg19_bn',features_only=True, pretrained=True)"
   ]
  },
  {
   "cell_type": "code",
   "execution_count": null,
   "id": "80d3788f",
   "metadata": {},
   "outputs": [],
   "source": [
    "o = encoder(torch.randn(2, 3, 128, 128))\n",
    "for x in o:\n",
    "    print(x.shape)"
   ]
  },
  {
   "cell_type": "code",
   "execution_count": null,
   "id": "aed1c817",
   "metadata": {},
   "outputs": [],
   "source": [
    "512*4*4"
   ]
  },
  {
   "cell_type": "code",
   "execution_count": null,
   "id": "837f9fae",
   "metadata": {},
   "outputs": [],
   "source": [
    "encoder=timm.create_model('repvgg_b3',features_only=True, pretrained=False)"
   ]
  },
  {
   "cell_type": "code",
   "execution_count": null,
   "id": "74228371",
   "metadata": {},
   "outputs": [],
   "source": [
    "o = encoder(torch.randn(2, 3, 512, 512))\n",
    "for x in o:\n",
    "    print(x.shape)"
   ]
  },
  {
   "cell_type": "code",
   "execution_count": null,
   "id": "9573726f",
   "metadata": {},
   "outputs": [],
   "source": [
    "CHECKPOINT_PATH=\"anamoly_checkpoints\"\n",
    "os.makedirs(CHECKPOINT_PATH, exist_ok=True)"
   ]
  },
  {
   "cell_type": "code",
   "execution_count": null,
   "id": "d38d54bf",
   "metadata": {},
   "outputs": [],
   "source": [
    "class Encoder(nn.Module):\n",
    "\n",
    "    def __init__(self):\n",
    "        super().__init__()\n",
    "        self.encoder = timm.create_model('vgg19_bn',features_only=True, pretrained=False)\n",
    "\n",
    "\n",
    "    def forward(self, x):\n",
    "        return self.encoder(x)[-1]"
   ]
  },
  {
   "cell_type": "code",
   "execution_count": null,
   "id": "960058be",
   "metadata": {},
   "outputs": [],
   "source": [
    "class Decoder(nn.Module):\n",
    "\n",
    "    def __init__(self,\n",
    "                 num_input_channels : int,\n",
    "                 c_hid : int,\n",
    "                 act_fn : object = nn.GELU):\n",
    "        \"\"\"\n",
    "        Inputs:\n",
    "            - num_input_channels : Number of channels of the image to reconstruct. For CIFAR, this parameter is 3\n",
    "            - base_channel_size : Number of channels we use in the last convolutional layers. Early layers might use a duplicate of it.\n",
    "            - latent_dim : Dimensionality of latent representation z\n",
    "            - act_fn : Activation function used throughout the decoder network\n",
    "        \"\"\"\n",
    "        super().__init__()\n",
    "        \n",
    "        inter1=c_hid//2\n",
    "        inter2=inter1//2\n",
    "        inter3=inter2//2\n",
    "        \n",
    "        self.net = nn.Sequential(\n",
    "            nn.ConvTranspose2d(c_hid, c_hid, kernel_size=3, output_padding=1, padding=1, stride=2), # 16x16 => 32x32\n",
    "            act_fn(),\n",
    "            nn.Conv2d(c_hid, c_hid, kernel_size=3, padding=1),\n",
    "            act_fn(),\n",
    "            nn.Conv2d(c_hid, c_hid, kernel_size=3, padding=1),\n",
    "            act_fn(),\n",
    "            nn.Conv2d(c_hid, c_hid, kernel_size=3, padding=1),\n",
    "            act_fn(),\n",
    "            nn.Conv2d(c_hid, c_hid, kernel_size=3, padding=1),\n",
    "            act_fn(),\n",
    "            nn.Conv2d(c_hid, c_hid, kernel_size=3, padding=1),\n",
    "            act_fn(),\n",
    "            nn.ConvTranspose2d(c_hid, inter1, kernel_size=3, output_padding=1, padding=1, stride=2), # 32x32 => 64x64\n",
    "            act_fn(),\n",
    "            nn.Conv2d(inter1, inter1, kernel_size=3, padding=1),\n",
    "            act_fn(),\n",
    "            nn.Conv2d(inter1, inter1, kernel_size=3, padding=1),\n",
    "            act_fn(),\n",
    "            nn.Conv2d(inter1, inter1, kernel_size=3, padding=1),\n",
    "            act_fn(),\n",
    "            nn.Conv2d(inter1, inter1, kernel_size=3, padding=1),\n",
    "            act_fn(),\n",
    "            nn.Conv2d(inter1, inter1, kernel_size=3, padding=1),\n",
    "            act_fn(),\n",
    "            nn.Conv2d(inter1, inter1, kernel_size=3, padding=1),\n",
    "            act_fn(),\n",
    "            nn.ConvTranspose2d( inter1, inter2, kernel_size=3, output_padding=1, padding=1, stride=2), # 64x64 => 128x128\n",
    "            act_fn(),\n",
    "            nn.Conv2d(inter2, inter2, kernel_size=3, padding=1),\n",
    "            act_fn(),\n",
    "            nn.Conv2d(inter2, inter2, kernel_size=3, padding=1),\n",
    "            act_fn(),\n",
    "            nn.Conv2d(inter2, inter2, kernel_size=3, padding=1),\n",
    "            act_fn(),\n",
    "            nn.Conv2d(inter2, inter2, kernel_size=3, padding=1),\n",
    "            act_fn(),\n",
    "            nn.Conv2d(inter2, inter2, kernel_size=3, padding=1),\n",
    "            act_fn(),\n",
    "            nn.ConvTranspose2d(inter2, inter3, kernel_size=3, output_padding=1, padding=1, stride=2), # 128x128 => 256x256\n",
    "            act_fn(),\n",
    "            nn.Conv2d(inter3, inter3, kernel_size=3, padding=1),\n",
    "            act_fn(),\n",
    "            nn.Conv2d(inter3, inter3, kernel_size=3, padding=1),\n",
    "            act_fn(),\n",
    "            nn.Conv2d(inter3, inter3, kernel_size=3, padding=1),\n",
    "            act_fn(),\n",
    "            nn.Conv2d(inter3, inter3, kernel_size=3, padding=1),\n",
    "            act_fn(),\n",
    "            nn.Conv2d(inter3, inter3, kernel_size=3, padding=1),\n",
    "            act_fn(),\n",
    "            nn.ConvTranspose2d(inter3, num_input_channels, kernel_size=3, output_padding=1, padding=1, stride=2), # 256x256 => 512x512\n",
    "            act_fn(),\n",
    "            nn.Conv2d(num_input_channels, num_input_channels, kernel_size=3, padding=1),\n",
    "            nn.Tanh() # The input images is scaled between -1 and 1, hence the output has to be bounded as well\n",
    "        )\n",
    "\n",
    "    def forward(self, x):\n",
    "        x = self.net(x)\n",
    "        return x"
   ]
  },
  {
   "cell_type": "code",
   "execution_count": null,
   "id": "13f146cb",
   "metadata": {},
   "outputs": [],
   "source": [
    "class Autoencoder(pl.LightningModule):\n",
    "\n",
    "    def __init__(self,\n",
    "                 latent_dim: int,\n",
    "                 encoder_class : object = Encoder,\n",
    "                 decoder_class : object = Decoder,\n",
    "                 num_input_channels: int = 3,\n",
    "                 width:int= 512,\n",
    "                 height:int= 512):\n",
    "        super().__init__()\n",
    "        # Saving hyperparameters of autoencoder\n",
    "        self.save_hyperparameters()\n",
    "        # Creating encoder and decoder\n",
    "        self.encoder = encoder_class()\n",
    "        self.decoder = decoder_class(num_input_channels, latent_dim)\n",
    "        self.inception= timm.create_model('vgg19_bn',features_only=True, pretrained=True)\n",
    "        # Example input array needed for visualizing the graph of the network\n",
    "        self.example_input_array = torch.zeros(2, num_input_channels, width, height)\n",
    "\n",
    "    def forward(self, x):\n",
    "        \"\"\"\n",
    "        The forward function takes in an image and returns the reconstructed image\n",
    "        \"\"\"\n",
    "        z = self.encoder(x)\n",
    "        x_hat = self.decoder(z)\n",
    "        return x_hat\n",
    "\n",
    "    def _get_reconstruction_loss(self, batch):\n",
    "        \"\"\"\n",
    "        Given a batch of images, this function returns the reconstruction loss (MSE in our case)\n",
    "        \"\"\"\n",
    "        x, _ = batch # We do not need the labels\n",
    "        x_hat = self.forward(x)\n",
    "        loss = F.mse_loss(x, x_hat, reduction=\"none\")\n",
    "        loss = loss.sum(dim=[1,2,3]).mean(dim=[0])\n",
    "        return loss\n",
    "    \n",
    "    @torch.no_grad()\n",
    "    def _get_inception(self,x):\n",
    "        z=self.inception(x)[-1]\n",
    "        return z\n",
    "    \n",
    "    def _get_inception_loss(self,batch):\n",
    "        x, _ = batch # We do not need the labels\n",
    "        z_hat = self.encoder(x)\n",
    "        z=self._get_inception(x)\n",
    "        loss = F.mse_loss(z, z_hat, reduction=\"none\")\n",
    "        loss = loss.sum(dim=[1,2,3]).mean(dim=[0])\n",
    "        return loss\n",
    "\n",
    "    def configure_optimizers(self):\n",
    "        optimizer = optim.Adam(self.parameters(), lr=1e-3)\n",
    "        # Using a scheduler is optional but can be helpful.\n",
    "        # The scheduler reduces the LR if the validation performance hasn't improved for the last N epochs\n",
    "        scheduler = optim.lr_scheduler.ReduceLROnPlateau(optimizer,\n",
    "                                                         mode='min',\n",
    "                                                         factor=0.2,\n",
    "                                                         patience=20,\n",
    "                                                         min_lr=5e-5)\n",
    "        return {\"optimizer\": optimizer, \"lr_scheduler\": scheduler, \"monitor\": \"val_loss\"}\n",
    "\n",
    "    def training_step(self, batch, batch_idx):\n",
    "        loss1 = self._get_reconstruction_loss(batch)\n",
    "        loss2 = self._get_inception_loss(batch)\n",
    "        loss=loss1+loss2\n",
    "        self.log('train_loss', loss)\n",
    "        return loss\n",
    "\n",
    "    def validation_step(self, batch, batch_idx):\n",
    "        loss = self._get_reconstruction_loss(batch)\n",
    "        self.log('val_loss', loss)\n",
    "\n",
    "    def test_step(self, batch, batch_idx):\n",
    "        loss = self._get_reconstruction_loss(batch)\n",
    "        self.log('test_loss', loss)"
   ]
  },
  {
   "cell_type": "code",
   "execution_count": null,
   "id": "d23eee08",
   "metadata": {},
   "outputs": [],
   "source": [
    "## Model evaluation\n",
    "weights=\"../anamoly_checkpoints/anamoly_road_512/lightning_logs/version_7/checkpoints/epoch=20-step=431046.ckpt\"\n",
    "model = Autoencoder.load_from_checkpoint(weights)"
   ]
  },
  {
   "cell_type": "code",
   "execution_count": null,
   "id": "5afdf3c6",
   "metadata": {},
   "outputs": [],
   "source": [
    "class GenerateCallback(pl.Callback):\n",
    "\n",
    "    def __init__(self, input_imgs, every_n_epochs=1):\n",
    "        super().__init__()\n",
    "        self.input_imgs = input_imgs # Images to reconstruct during training\n",
    "        self.every_n_epochs = every_n_epochs # Only save those images every N epochs (otherwise tensorboard gets quite large)\n",
    "\n",
    "    def on_train_epoch_end(self, trainer, pl_module):\n",
    "        if trainer.current_epoch % self.every_n_epochs == 0:\n",
    "            # Reconstruct images\n",
    "            input_imgs = self.input_imgs.to(pl_module.device)\n",
    "            with torch.no_grad():\n",
    "                pl_module.eval()\n",
    "                reconst_imgs = pl_module(input_imgs)\n",
    "                pl_module.train()\n",
    "            # Plot and add to tensorboard\n",
    "            imgs = torch.stack([input_imgs, reconst_imgs], dim=1).flatten(0,1)\n",
    "            grid = torchvision.utils.make_grid(imgs, nrow=2, normalize=True, range=(-1,1))\n",
    "            trainer.logger.experiment.add_image(\"Reconstructions\", grid, global_step=trainer.global_step)"
   ]
  },
  {
   "cell_type": "code",
   "execution_count": null,
   "id": "5bfa6ffb",
   "metadata": {},
   "outputs": [],
   "source": [
    "def train_Anamoly(latent_dim):\n",
    "    # Create a PyTorch Lightning trainer with the generation callback\n",
    "    trainer = pl.Trainer(default_root_dir=os.path.join(CHECKPOINT_PATH, f\"anamoly_road_{latent_dim}\"),\n",
    "                         accelerator=\"cuda\" if str(device).startswith(\"cuda\") else \"cpu\",\n",
    "                         devices=1,\n",
    "                         max_epochs=1000,\n",
    "                         callbacks=[ModelCheckpoint(save_weights_only=True),\n",
    "                                    GenerateCallback(get_train_images(8), every_n_epochs=10),\n",
    "                                    LearningRateMonitor(\"epoch\")])\n",
    "    trainer.logger._log_graph = True         # If True, we plot the computation graph in tensorboard\n",
    "    trainer.logger._default_hp_metric = None # Optional logging argument that we don't need\n",
    "\n",
    "    # Check whether pretrained model exists. If yes, load it and skip training\n",
    "    pretrained_filename = os.path.join(CHECKPOINT_PATH, f\"anamoly_road_{latent_dim}.ckpt\")\n",
    "    if os.path.isfile(pretrained_filename):\n",
    "        print(\"Found pretrained model, loading...\")\n",
    "        model = Autoencoder.load_from_checkpoint(pretrained_filename)\n",
    "    else:\n",
    "        model = Autoencoder(latent_dim=latent_dim)\n",
    "        trainer.fit(model, train_loader, val_loader)\n",
    "    # Test best model on validation and test set\n",
    "    val_result = trainer.test(model, val_loader, verbose=False)\n",
    "    #test_result = trainer.test(model, test_loader, verbose=False)\n",
    "    result = {\"val\": val_result}\n",
    "    return model, result"
   ]
  },
  {
   "cell_type": "code",
   "execution_count": null,
   "id": "113c60d3",
   "metadata": {},
   "outputs": [],
   "source": [
    "train_Anamoly(latent_dim=512)"
   ]
  },
  {
   "cell_type": "code",
   "execution_count": 1,
   "id": "43b3a9c7",
   "metadata": {},
   "outputs": [],
   "source": [
    "from utils import *"
   ]
  },
  {
   "cell_type": "code",
   "execution_count": 2,
   "id": "8f674bde",
   "metadata": {},
   "outputs": [],
   "source": [
    "def estimate_gaussian(X): \n",
    "    \"\"\"\n",
    "    Calculates mean and variance of all features \n",
    "    in the dataset\n",
    "    \n",
    "    Args:\n",
    "        X (ndarray): (m, n) Data matrix\n",
    "    \n",
    "    Returns:\n",
    "        mu (ndarray): (n,) Mean of all features\n",
    "        var (ndarray): (n,) Variance of all features\n",
    "    \"\"\"\n",
    "\n",
    "    m, n = X.shape\n",
    "    mu= np.mean(X,axis=0)\n",
    "    var= np.var(X,axis=0) \n",
    "    return mu, var"
   ]
  },
  {
   "cell_type": "code",
   "execution_count": null,
   "id": "97c3e6a9",
   "metadata": {},
   "outputs": [],
   "source": [
    "## Train features for checking \n",
    "train_features=[]\n",
    "for i,item in enumerate(tqdm(train_loader)):\n",
    "    if (i>200):\n",
    "        break\n",
    "    x,y=item[0],item[1]\n",
    "    model.cuda()\n",
    "    model.eval()\n",
    "    x=x.cuda()\n",
    "    #x=x.unsqueeze(0)\n",
    "    y=model.encoder(x).detach().cpu()\n",
    "    train_features.append(y.flatten(start_dim=1).numpy())"
   ]
  },
  {
   "cell_type": "code",
   "execution_count": null,
   "id": "d914f9e9",
   "metadata": {},
   "outputs": [],
   "source": [
    "#print(len(train_features))\n",
    "train_features=np.concatenate(train_features,axis=0)\n",
    "train_features.shape"
   ]
  },
  {
   "cell_type": "code",
   "execution_count": null,
   "id": "55376b25",
   "metadata": {},
   "outputs": [],
   "source": [
    "train_features.shape"
   ]
  },
  {
   "cell_type": "code",
   "execution_count": null,
   "id": "793aa4c5",
   "metadata": {},
   "outputs": [],
   "source": [
    "with open('train_features.npy', 'wb') as f:\n",
    "    np.save(f, train_features)"
   ]
  },
  {
   "cell_type": "code",
   "execution_count": null,
   "id": "0366a57d",
   "metadata": {},
   "outputs": [],
   "source": [
    "with open('train_features.npy', 'rb') as f:\n",
    "    train_features=np.load(f)"
   ]
  },
  {
   "cell_type": "code",
   "execution_count": null,
   "id": "eec4509d",
   "metadata": {},
   "outputs": [],
   "source": [
    "mu, var = estimate_gaussian(train_features)  "
   ]
  },
  {
   "cell_type": "code",
   "execution_count": null,
   "id": "cae72970",
   "metadata": {},
   "outputs": [],
   "source": [
    "mu.shape,var.shape"
   ]
  },
  {
   "cell_type": "code",
   "execution_count": 3,
   "id": "f3b1200d",
   "metadata": {},
   "outputs": [
    {
     "data": {
      "text/plain": [
       "(8192,)"
      ]
     },
     "execution_count": 3,
     "metadata": {},
     "output_type": "execute_result"
    }
   ],
   "source": [
    "mu=np.random.randn(8192,)\n",
    "var=np.random.randn(8192,)\n",
    "train_features=np.random.rand(100000,8192)\n",
    "mu.shape"
   ]
  },
  {
   "cell_type": "code",
   "execution_count": 4,
   "id": "bc233b3d",
   "metadata": {},
   "outputs": [
    {
     "name": "stderr",
     "output_type": "stream",
     "text": [
      "/home/ec2-user/SageMaker/Image-Anomaly/utils.py:26: RuntimeWarning: divide by zero encountered in double_scalars\n",
      "  p = (2* np.pi)**(-k/2) * np.linalg.det(var)**(-0.5) * \\\n",
      "/home/ec2-user/SageMaker/Image-Anomaly/utils.py:26: RuntimeWarning: invalid value encountered in double_scalars\n",
      "  p = (2* np.pi)**(-k/2) * np.linalg.det(var)**(-0.5) * \\\n",
      "/home/ec2-user/SageMaker/Image-Anomaly/utils.py:27: RuntimeWarning: overflow encountered in exp\n",
      "  np.exp(-0.5 * np.sum(np.matmul(X, np.linalg.pinv(var)) * X, axis=1))\n"
     ]
    }
   ],
   "source": [
    "## Normal distribution should look like this\n",
    "p_train = multivariate_gaussian(train_features, mu, var)"
   ]
  },
  {
   "cell_type": "code",
   "execution_count": null,
   "id": "aa17e0cf",
   "metadata": {},
   "outputs": [],
   "source": [
    "## Val features and labels for picking the best threshold\n",
    "val_features=[]\n",
    "y_val=[]\n",
    "for i,item in enumerate(tqdm(val_loader)):\n",
    "    x,y=item[0],item[1]\n",
    "    model.cuda()\n",
    "    model.eval()\n",
    "    x=x.cuda()\n",
    "    #x=x.unsqueeze(0)\n",
    "    y=model.encoder(x).detach().cpu()\n",
    "    val_features.append(y.flatten(start_dim=1).numpy())\n",
    "    y_val.append(y_val.detch().cpu().numpy())"
   ]
  },
  {
   "cell_type": "code",
   "execution_count": null,
   "id": "e31b10ec",
   "metadata": {},
   "outputs": [],
   "source": [
    "val_features=np.concatenate(val_features)\n",
    "y_val=np.concatenate(y_val)"
   ]
  },
  {
   "cell_type": "code",
   "execution_count": null,
   "id": "1379b95d",
   "metadata": {},
   "outputs": [],
   "source": [
    "## Data Out of distribution looks like this\n",
    "p_val = multivariate_gaussian(val_features, mu, var)"
   ]
  },
  {
   "cell_type": "code",
   "execution_count": null,
   "id": "733c68fb",
   "metadata": {},
   "outputs": [],
   "source": [
    "epsilon, F1 = select_threshold(y_val, p_val)\n",
    "print('Best epsilon found using cross-validation: %e' % epsilon)\n",
    "print('Best F1 on Cross Validation Set: %f' % F1)"
   ]
  },
  {
   "cell_type": "code",
   "execution_count": null,
   "id": "e0c83b94",
   "metadata": {},
   "outputs": [],
   "source": [
    "## Inference and testing"
   ]
  },
  {
   "cell_type": "code",
   "execution_count": 3,
   "id": "a8eef593",
   "metadata": {},
   "outputs": [],
   "source": [
    "import sys"
   ]
  },
  {
   "cell_type": "code",
   "execution_count": 4,
   "id": "229f17f2",
   "metadata": {},
   "outputs": [],
   "source": [
    "sys.path.append( '../' )"
   ]
  },
  {
   "cell_type": "code",
   "execution_count": 5,
   "id": "b1370dfa",
   "metadata": {},
   "outputs": [],
   "source": [
    "from models.autoencoder_mu_var import *"
   ]
  },
  {
   "cell_type": "code",
   "execution_count": 6,
   "id": "f919d6c7",
   "metadata": {},
   "outputs": [],
   "source": [
    "from torchvision import datasets, transforms"
   ]
  },
  {
   "cell_type": "code",
   "execution_count": 20,
   "id": "aadf5927",
   "metadata": {},
   "outputs": [
    {
     "data": {
      "text/plain": [
       "Autoencoder(\n",
       "  (encoder): Encoder(\n",
       "    (encoder): FeatureListNet(\n",
       "      (features_0): Conv2d(3, 64, kernel_size=(3, 3), stride=(1, 1), padding=(1, 1))\n",
       "      (features_1): BatchNorm2d(64, eps=1e-05, momentum=0.1, affine=True, track_running_stats=True)\n",
       "      (features_2): ReLU(inplace=True)\n",
       "      (features_3): Conv2d(64, 64, kernel_size=(3, 3), stride=(1, 1), padding=(1, 1))\n",
       "      (features_4): BatchNorm2d(64, eps=1e-05, momentum=0.1, affine=True, track_running_stats=True)\n",
       "      (features_5): ReLU(inplace=True)\n",
       "      (features_6): MaxPool2d(kernel_size=2, stride=2, padding=0, dilation=1, ceil_mode=False)\n",
       "      (features_7): Conv2d(64, 128, kernel_size=(3, 3), stride=(1, 1), padding=(1, 1))\n",
       "      (features_8): BatchNorm2d(128, eps=1e-05, momentum=0.1, affine=True, track_running_stats=True)\n",
       "      (features_9): ReLU(inplace=True)\n",
       "      (features_10): Conv2d(128, 128, kernel_size=(3, 3), stride=(1, 1), padding=(1, 1))\n",
       "      (features_11): BatchNorm2d(128, eps=1e-05, momentum=0.1, affine=True, track_running_stats=True)\n",
       "      (features_12): ReLU(inplace=True)\n",
       "      (features_13): MaxPool2d(kernel_size=2, stride=2, padding=0, dilation=1, ceil_mode=False)\n",
       "      (features_14): Conv2d(128, 256, kernel_size=(3, 3), stride=(1, 1), padding=(1, 1))\n",
       "      (features_15): BatchNorm2d(256, eps=1e-05, momentum=0.1, affine=True, track_running_stats=True)\n",
       "      (features_16): ReLU(inplace=True)\n",
       "      (features_17): Conv2d(256, 256, kernel_size=(3, 3), stride=(1, 1), padding=(1, 1))\n",
       "      (features_18): BatchNorm2d(256, eps=1e-05, momentum=0.1, affine=True, track_running_stats=True)\n",
       "      (features_19): ReLU(inplace=True)\n",
       "      (features_20): Conv2d(256, 256, kernel_size=(3, 3), stride=(1, 1), padding=(1, 1))\n",
       "      (features_21): BatchNorm2d(256, eps=1e-05, momentum=0.1, affine=True, track_running_stats=True)\n",
       "      (features_22): ReLU(inplace=True)\n",
       "      (features_23): Conv2d(256, 256, kernel_size=(3, 3), stride=(1, 1), padding=(1, 1))\n",
       "      (features_24): BatchNorm2d(256, eps=1e-05, momentum=0.1, affine=True, track_running_stats=True)\n",
       "      (features_25): ReLU(inplace=True)\n",
       "      (features_26): MaxPool2d(kernel_size=2, stride=2, padding=0, dilation=1, ceil_mode=False)\n",
       "      (features_27): Conv2d(256, 512, kernel_size=(3, 3), stride=(1, 1), padding=(1, 1))\n",
       "      (features_28): BatchNorm2d(512, eps=1e-05, momentum=0.1, affine=True, track_running_stats=True)\n",
       "      (features_29): ReLU(inplace=True)\n",
       "      (features_30): Conv2d(512, 512, kernel_size=(3, 3), stride=(1, 1), padding=(1, 1))\n",
       "      (features_31): BatchNorm2d(512, eps=1e-05, momentum=0.1, affine=True, track_running_stats=True)\n",
       "      (features_32): ReLU(inplace=True)\n",
       "      (features_33): Conv2d(512, 512, kernel_size=(3, 3), stride=(1, 1), padding=(1, 1))\n",
       "      (features_34): BatchNorm2d(512, eps=1e-05, momentum=0.1, affine=True, track_running_stats=True)\n",
       "      (features_35): ReLU(inplace=True)\n",
       "      (features_36): Conv2d(512, 512, kernel_size=(3, 3), stride=(1, 1), padding=(1, 1))\n",
       "      (features_37): BatchNorm2d(512, eps=1e-05, momentum=0.1, affine=True, track_running_stats=True)\n",
       "      (features_38): ReLU(inplace=True)\n",
       "      (features_39): MaxPool2d(kernel_size=2, stride=2, padding=0, dilation=1, ceil_mode=False)\n",
       "      (features_40): Conv2d(512, 512, kernel_size=(3, 3), stride=(1, 1), padding=(1, 1))\n",
       "      (features_41): BatchNorm2d(512, eps=1e-05, momentum=0.1, affine=True, track_running_stats=True)\n",
       "      (features_42): ReLU(inplace=True)\n",
       "      (features_43): Conv2d(512, 512, kernel_size=(3, 3), stride=(1, 1), padding=(1, 1))\n",
       "      (features_44): BatchNorm2d(512, eps=1e-05, momentum=0.1, affine=True, track_running_stats=True)\n",
       "      (features_45): ReLU(inplace=True)\n",
       "      (features_46): Conv2d(512, 512, kernel_size=(3, 3), stride=(1, 1), padding=(1, 1))\n",
       "      (features_47): BatchNorm2d(512, eps=1e-05, momentum=0.1, affine=True, track_running_stats=True)\n",
       "      (features_48): ReLU(inplace=True)\n",
       "      (features_49): Conv2d(512, 512, kernel_size=(3, 3), stride=(1, 1), padding=(1, 1))\n",
       "      (features_50): BatchNorm2d(512, eps=1e-05, momentum=0.1, affine=True, track_running_stats=True)\n",
       "      (features_51): ReLU(inplace=True)\n",
       "      (features_52): MaxPool2d(kernel_size=2, stride=2, padding=0, dilation=1, ceil_mode=False)\n",
       "    )\n",
       "    (fc_mu): Linear(in_features=512, out_features=512, bias=True)\n",
       "    (fc_var): Linear(in_features=512, out_features=512, bias=True)\n",
       "  )\n",
       "  (decoder): Decoder(\n",
       "    (net): Sequential(\n",
       "      (0): ConvTranspose2d(512, 512, kernel_size=(3, 3), stride=(2, 2), padding=(1, 1), output_padding=(1, 1))\n",
       "      (1): GELU(approximate=none)\n",
       "      (2): ConvTranspose2d(512, 512, kernel_size=(3, 3), stride=(2, 2), padding=(1, 1), output_padding=(1, 1))\n",
       "      (3): GELU(approximate=none)\n",
       "      (4): ConvTranspose2d(512, 512, kernel_size=(3, 3), stride=(2, 2), padding=(1, 1), output_padding=(1, 1))\n",
       "      (5): GELU(approximate=none)\n",
       "      (6): Conv2d(512, 512, kernel_size=(3, 3), stride=(1, 1), padding=(1, 1))\n",
       "      (7): GELU(approximate=none)\n",
       "      (8): Conv2d(512, 512, kernel_size=(3, 3), stride=(1, 1), padding=(1, 1))\n",
       "      (9): GELU(approximate=none)\n",
       "      (10): Conv2d(512, 512, kernel_size=(3, 3), stride=(1, 1), padding=(1, 1))\n",
       "      (11): GELU(approximate=none)\n",
       "      (12): Conv2d(512, 512, kernel_size=(3, 3), stride=(1, 1), padding=(1, 1))\n",
       "      (13): GELU(approximate=none)\n",
       "      (14): Conv2d(512, 512, kernel_size=(3, 3), stride=(1, 1), padding=(1, 1))\n",
       "      (15): GELU(approximate=none)\n",
       "      (16): ConvTranspose2d(512, 256, kernel_size=(3, 3), stride=(2, 2), padding=(1, 1), output_padding=(1, 1))\n",
       "      (17): GELU(approximate=none)\n",
       "      (18): Conv2d(256, 256, kernel_size=(3, 3), stride=(1, 1), padding=(1, 1))\n",
       "      (19): GELU(approximate=none)\n",
       "      (20): Conv2d(256, 256, kernel_size=(3, 3), stride=(1, 1), padding=(1, 1))\n",
       "      (21): GELU(approximate=none)\n",
       "      (22): Conv2d(256, 256, kernel_size=(3, 3), stride=(1, 1), padding=(1, 1))\n",
       "      (23): GELU(approximate=none)\n",
       "      (24): Conv2d(256, 256, kernel_size=(3, 3), stride=(1, 1), padding=(1, 1))\n",
       "      (25): GELU(approximate=none)\n",
       "      (26): Conv2d(256, 256, kernel_size=(3, 3), stride=(1, 1), padding=(1, 1))\n",
       "      (27): GELU(approximate=none)\n",
       "      (28): ConvTranspose2d(256, 128, kernel_size=(3, 3), stride=(2, 2), padding=(1, 1), output_padding=(1, 1))\n",
       "      (29): GELU(approximate=none)\n",
       "      (30): Conv2d(128, 128, kernel_size=(3, 3), stride=(1, 1), padding=(1, 1))\n",
       "      (31): GELU(approximate=none)\n",
       "      (32): Conv2d(128, 128, kernel_size=(3, 3), stride=(1, 1), padding=(1, 1))\n",
       "      (33): GELU(approximate=none)\n",
       "      (34): Conv2d(128, 128, kernel_size=(3, 3), stride=(1, 1), padding=(1, 1))\n",
       "      (35): GELU(approximate=none)\n",
       "      (36): Conv2d(128, 128, kernel_size=(3, 3), stride=(1, 1), padding=(1, 1))\n",
       "      (37): GELU(approximate=none)\n",
       "      (38): Conv2d(128, 128, kernel_size=(3, 3), stride=(1, 1), padding=(1, 1))\n",
       "      (39): GELU(approximate=none)\n",
       "      (40): ConvTranspose2d(128, 64, kernel_size=(3, 3), stride=(2, 2), padding=(1, 1), output_padding=(1, 1))\n",
       "      (41): GELU(approximate=none)\n",
       "      (42): Conv2d(64, 64, kernel_size=(3, 3), stride=(1, 1), padding=(1, 1))\n",
       "      (43): GELU(approximate=none)\n",
       "      (44): Conv2d(64, 64, kernel_size=(3, 3), stride=(1, 1), padding=(1, 1))\n",
       "      (45): GELU(approximate=none)\n",
       "      (46): Conv2d(64, 64, kernel_size=(3, 3), stride=(1, 1), padding=(1, 1))\n",
       "      (47): GELU(approximate=none)\n",
       "      (48): Conv2d(64, 64, kernel_size=(3, 3), stride=(1, 1), padding=(1, 1))\n",
       "      (49): GELU(approximate=none)\n",
       "      (50): Conv2d(64, 64, kernel_size=(3, 3), stride=(1, 1), padding=(1, 1))\n",
       "      (51): GELU(approximate=none)\n",
       "      (52): ConvTranspose2d(64, 3, kernel_size=(3, 3), stride=(2, 2), padding=(1, 1), output_padding=(1, 1))\n",
       "      (53): GELU(approximate=none)\n",
       "      (54): Conv2d(3, 3, kernel_size=(3, 3), stride=(1, 1), padding=(1, 1))\n",
       "      (55): Tanh()\n",
       "    )\n",
       "  )\n",
       "  (inception): FeatureListNet(\n",
       "    (features_0): Conv2d(3, 64, kernel_size=(3, 3), stride=(1, 1), padding=(1, 1))\n",
       "    (features_1): BatchNorm2d(64, eps=1e-05, momentum=0.1, affine=True, track_running_stats=True)\n",
       "    (features_2): ReLU(inplace=True)\n",
       "    (features_3): Conv2d(64, 64, kernel_size=(3, 3), stride=(1, 1), padding=(1, 1))\n",
       "    (features_4): BatchNorm2d(64, eps=1e-05, momentum=0.1, affine=True, track_running_stats=True)\n",
       "    (features_5): ReLU(inplace=True)\n",
       "    (features_6): MaxPool2d(kernel_size=2, stride=2, padding=0, dilation=1, ceil_mode=False)\n",
       "    (features_7): Conv2d(64, 128, kernel_size=(3, 3), stride=(1, 1), padding=(1, 1))\n",
       "    (features_8): BatchNorm2d(128, eps=1e-05, momentum=0.1, affine=True, track_running_stats=True)\n",
       "    (features_9): ReLU(inplace=True)\n",
       "    (features_10): Conv2d(128, 128, kernel_size=(3, 3), stride=(1, 1), padding=(1, 1))\n",
       "    (features_11): BatchNorm2d(128, eps=1e-05, momentum=0.1, affine=True, track_running_stats=True)\n",
       "    (features_12): ReLU(inplace=True)\n",
       "    (features_13): MaxPool2d(kernel_size=2, stride=2, padding=0, dilation=1, ceil_mode=False)\n",
       "    (features_14): Conv2d(128, 256, kernel_size=(3, 3), stride=(1, 1), padding=(1, 1))\n",
       "    (features_15): BatchNorm2d(256, eps=1e-05, momentum=0.1, affine=True, track_running_stats=True)\n",
       "    (features_16): ReLU(inplace=True)\n",
       "    (features_17): Conv2d(256, 256, kernel_size=(3, 3), stride=(1, 1), padding=(1, 1))\n",
       "    (features_18): BatchNorm2d(256, eps=1e-05, momentum=0.1, affine=True, track_running_stats=True)\n",
       "    (features_19): ReLU(inplace=True)\n",
       "    (features_20): Conv2d(256, 256, kernel_size=(3, 3), stride=(1, 1), padding=(1, 1))\n",
       "    (features_21): BatchNorm2d(256, eps=1e-05, momentum=0.1, affine=True, track_running_stats=True)\n",
       "    (features_22): ReLU(inplace=True)\n",
       "    (features_23): Conv2d(256, 256, kernel_size=(3, 3), stride=(1, 1), padding=(1, 1))\n",
       "    (features_24): BatchNorm2d(256, eps=1e-05, momentum=0.1, affine=True, track_running_stats=True)\n",
       "    (features_25): ReLU(inplace=True)\n",
       "    (features_26): MaxPool2d(kernel_size=2, stride=2, padding=0, dilation=1, ceil_mode=False)\n",
       "    (features_27): Conv2d(256, 512, kernel_size=(3, 3), stride=(1, 1), padding=(1, 1))\n",
       "    (features_28): BatchNorm2d(512, eps=1e-05, momentum=0.1, affine=True, track_running_stats=True)\n",
       "    (features_29): ReLU(inplace=True)\n",
       "    (features_30): Conv2d(512, 512, kernel_size=(3, 3), stride=(1, 1), padding=(1, 1))\n",
       "    (features_31): BatchNorm2d(512, eps=1e-05, momentum=0.1, affine=True, track_running_stats=True)\n",
       "    (features_32): ReLU(inplace=True)\n",
       "    (features_33): Conv2d(512, 512, kernel_size=(3, 3), stride=(1, 1), padding=(1, 1))\n",
       "    (features_34): BatchNorm2d(512, eps=1e-05, momentum=0.1, affine=True, track_running_stats=True)\n",
       "    (features_35): ReLU(inplace=True)\n",
       "    (features_36): Conv2d(512, 512, kernel_size=(3, 3), stride=(1, 1), padding=(1, 1))\n",
       "    (features_37): BatchNorm2d(512, eps=1e-05, momentum=0.1, affine=True, track_running_stats=True)\n",
       "    (features_38): ReLU(inplace=True)\n",
       "    (features_39): MaxPool2d(kernel_size=2, stride=2, padding=0, dilation=1, ceil_mode=False)\n",
       "    (features_40): Conv2d(512, 512, kernel_size=(3, 3), stride=(1, 1), padding=(1, 1))\n",
       "    (features_41): BatchNorm2d(512, eps=1e-05, momentum=0.1, affine=True, track_running_stats=True)\n",
       "    (features_42): ReLU(inplace=True)\n",
       "    (features_43): Conv2d(512, 512, kernel_size=(3, 3), stride=(1, 1), padding=(1, 1))\n",
       "    (features_44): BatchNorm2d(512, eps=1e-05, momentum=0.1, affine=True, track_running_stats=True)\n",
       "    (features_45): ReLU(inplace=True)\n",
       "    (features_46): Conv2d(512, 512, kernel_size=(3, 3), stride=(1, 1), padding=(1, 1))\n",
       "    (features_47): BatchNorm2d(512, eps=1e-05, momentum=0.1, affine=True, track_running_stats=True)\n",
       "    (features_48): ReLU(inplace=True)\n",
       "    (features_49): Conv2d(512, 512, kernel_size=(3, 3), stride=(1, 1), padding=(1, 1))\n",
       "    (features_50): BatchNorm2d(512, eps=1e-05, momentum=0.1, affine=True, track_running_stats=True)\n",
       "    (features_51): ReLU(inplace=True)\n",
       "    (features_52): MaxPool2d(kernel_size=2, stride=2, padding=0, dilation=1, ceil_mode=False)\n",
       "  )\n",
       ")"
      ]
     },
     "execution_count": 20,
     "metadata": {},
     "output_type": "execute_result"
    }
   ],
   "source": [
    "weights=\"../ckpts/anamoly_road_512/lightning_logs/version_0/checkpoints/epoch=53-step=51948.ckpt\"\n",
    "model = Autoencoder.load_from_checkpoint(weights,is_training=False)\n",
    "model.eval()"
   ]
  },
  {
   "cell_type": "code",
   "execution_count": 21,
   "id": "24950b14",
   "metadata": {},
   "outputs": [],
   "source": [
    "from PIL import Image\n",
    "import numpy as np\n",
    "from torchvision.transforms import InterpolationMode"
   ]
  },
  {
   "cell_type": "code",
   "execution_count": 22,
   "id": "c8cfec26",
   "metadata": {},
   "outputs": [],
   "source": [
    "transform = transforms.Compose([transforms.Resize((128,128),interpolation=InterpolationMode.NEAREST),transforms.ToTensor()])"
   ]
  },
  {
   "cell_type": "code",
   "execution_count": 23,
   "id": "a69c185d",
   "metadata": {},
   "outputs": [
    {
     "name": "stdout",
     "output_type": "stream",
     "text": [
      "0 254\n"
     ]
    }
   ],
   "source": [
    "img_path=\"/home/ec2-user/SageMaker/AnamolyData/val/images/anamoly/gaussian.png\"\n",
    "img=Image.open(img_path)\n",
    "a = np.asarray(img)\n",
    "print(a.min(),a.max())\n",
    "img=transform(Image.open(img_path))"
   ]
  },
  {
   "cell_type": "code",
   "execution_count": 24,
   "id": "c42fe4b0",
   "metadata": {},
   "outputs": [
    {
     "data": {
      "text/plain": [
       "(tensor(0.), tensor(0.9961))"
      ]
     },
     "execution_count": 24,
     "metadata": {},
     "output_type": "execute_result"
    }
   ],
   "source": [
    "img.min(),img.max()"
   ]
  },
  {
   "cell_type": "code",
   "execution_count": 25,
   "id": "99b0f6c4",
   "metadata": {},
   "outputs": [],
   "source": [
    "pil_image = transforms.ToPILImage()(img)"
   ]
  },
  {
   "cell_type": "code",
   "execution_count": 26,
   "id": "0b5c4db8",
   "metadata": {},
   "outputs": [
    {
     "data": {
      "image/png": "[encoded data removed]",
      "text/plain": [
       "<PIL.Image.Image image mode=RGB size=128x128 at 0x7F608D07DF70>"
      ]
     },
     "execution_count": 26,
     "metadata": {},
     "output_type": "execute_result"
    }
   ],
   "source": [
    "pil_image"
   ]
  },
  {
   "cell_type": "code",
   "execution_count": 27,
   "id": "fde3d48f",
   "metadata": {},
   "outputs": [
    {
     "data": {
      "text/plain": [
       "torch.Size([3, 128, 128])"
      ]
     },
     "execution_count": 27,
     "metadata": {},
     "output_type": "execute_result"
    }
   ],
   "source": [
    "img.shape"
   ]
  },
  {
   "cell_type": "code",
   "execution_count": 28,
   "id": "dd491669",
   "metadata": {},
   "outputs": [],
   "source": [
    "y=model(img.unsqueeze(0))"
   ]
  },
  {
   "cell_type": "code",
   "execution_count": 29,
   "id": "436bff3f",
   "metadata": {},
   "outputs": [
    {
     "data": {
      "text/plain": [
       "tensor([[1.1935e-02, 1.2197e-01, 0.0000e+00, 4.1972e-02, 0.0000e+00, 0.0000e+00,\n",
       "         1.4178e-01, 7.9019e-02, 0.0000e+00, 2.0370e-01, 0.0000e+00, 1.0819e-01,\n",
       "         9.1222e-03, 2.2651e-02, 4.6361e-03, 0.0000e+00, 1.0152e-02, 0.0000e+00,\n",
       "         3.6029e-02, 3.1959e-02, 3.6219e-01, 6.4914e-03, 0.0000e+00, 0.0000e+00,\n",
       "         6.1713e-02, 0.0000e+00, 1.3685e-01, 1.8160e-02, 0.0000e+00, 0.0000e+00,\n",
       "         0.0000e+00, 0.0000e+00, 1.9343e-02, 4.5730e-02, 0.0000e+00, 0.0000e+00,\n",
       "         1.9796e-01, 8.8677e-03, 0.0000e+00, 5.5598e-04, 2.1902e-01, 1.9683e-01,\n",
       "         2.4641e-02, 0.0000e+00, 9.7545e-02, 1.2733e-01, 0.0000e+00, 4.7614e-01,\n",
       "         0.0000e+00, 2.6503e-02, 1.3039e-01, 0.0000e+00, 6.4855e-02, 0.0000e+00,\n",
       "         0.0000e+00, 2.7884e-01, 0.0000e+00, 6.8536e-02, 0.0000e+00, 0.0000e+00,\n",
       "         2.4350e-01, 0.0000e+00, 0.0000e+00, 3.0843e-01, 0.0000e+00, 0.0000e+00,\n",
       "         1.4566e-01, 0.0000e+00, 0.0000e+00, 0.0000e+00, 0.0000e+00, 0.0000e+00,\n",
       "         3.4025e-02, 6.7833e-02, 0.0000e+00, 3.2799e-02, 0.0000e+00, 3.9763e-01,\n",
       "         2.3147e-01, 0.0000e+00, 0.0000e+00, 1.7921e-01, 1.2607e-01, 3.2046e-02,\n",
       "         9.7797e-02, 0.0000e+00, 0.0000e+00, 0.0000e+00, 2.1239e-02, 0.0000e+00,\n",
       "         0.0000e+00, 1.3847e-01, 1.6389e-02, 0.0000e+00, 2.3965e-02, 9.0646e-02,\n",
       "         0.0000e+00, 1.5669e-03, 2.4619e-01, 3.6552e-02, 3.0789e-01, 0.0000e+00,\n",
       "         0.0000e+00, 3.7132e-02, 0.0000e+00, 0.0000e+00, 0.0000e+00, 0.0000e+00,\n",
       "         3.0507e-01, 4.3583e-02, 2.0159e-02, 0.0000e+00, 0.0000e+00, 0.0000e+00,\n",
       "         1.1461e-01, 3.5248e-02, 2.8784e-01, 0.0000e+00, 0.0000e+00, 0.0000e+00,\n",
       "         0.0000e+00, 0.0000e+00, 7.1321e-03, 0.0000e+00, 0.0000e+00, 0.0000e+00,\n",
       "         1.3172e-01, 8.8156e-02, 0.0000e+00, 0.0000e+00, 1.2260e-01, 1.1895e-01,\n",
       "         3.1235e-02, 1.0487e-01, 2.1138e-02, 3.1890e-03, 0.0000e+00, 5.7858e-02,\n",
       "         1.9722e-01, 0.0000e+00, 0.0000e+00, 1.9808e-01, 9.3932e-03, 0.0000e+00,\n",
       "         0.0000e+00, 0.0000e+00, 0.0000e+00, 1.7285e-01, 2.0474e-01, 1.1096e-01,\n",
       "         0.0000e+00, 0.0000e+00, 0.0000e+00, 0.0000e+00, 0.0000e+00, 3.5222e-01,\n",
       "         2.2024e-02, 0.0000e+00, 0.0000e+00, 0.0000e+00, 0.0000e+00, 1.6884e-01,\n",
       "         0.0000e+00, 0.0000e+00, 0.0000e+00, 6.3968e-02, 0.0000e+00, 1.9482e-02,\n",
       "         0.0000e+00, 1.2331e-02, 2.8887e-02, 1.4471e-02, 2.8908e-01, 2.6956e-01,\n",
       "         2.4880e-01, 0.0000e+00, 0.0000e+00, 2.4087e-02, 5.4762e-02, 0.0000e+00,\n",
       "         0.0000e+00, 1.7085e-01, 0.0000e+00, 0.0000e+00, 0.0000e+00, 0.0000e+00,\n",
       "         0.0000e+00, 0.0000e+00, 0.0000e+00, 1.8575e-02, 2.8338e-02, 3.8169e-03,\n",
       "         3.3155e-03, 1.8917e-01, 0.0000e+00, 2.8441e-03, 2.2828e-01, 0.0000e+00,\n",
       "         0.0000e+00, 8.3552e-02, 1.2379e-01, 0.0000e+00, 1.8779e-01, 1.3201e-02,\n",
       "         0.0000e+00, 0.0000e+00, 9.4592e-02, 8.0526e-02, 2.5856e-01, 0.0000e+00,\n",
       "         1.0720e-01, 0.0000e+00, 1.8125e-02, 0.0000e+00, 3.4959e-03, 2.4829e-02,\n",
       "         2.6760e-02, 0.0000e+00, 5.3404e-01, 0.0000e+00, 1.8702e-01, 0.0000e+00,\n",
       "         5.5542e-02, 0.0000e+00, 6.2621e-02, 1.0220e-01, 5.3847e-02, 6.2903e-02,\n",
       "         0.0000e+00, 4.2955e-03, 0.0000e+00, 0.0000e+00, 4.6587e-02, 5.6751e-02,\n",
       "         0.0000e+00, 1.7207e-02, 0.0000e+00, 6.3743e-02, 3.1459e-01, 1.4883e-03,\n",
       "         3.9235e-03, 0.0000e+00, 8.8590e-02, 0.0000e+00, 0.0000e+00, 2.3359e-01,\n",
       "         0.0000e+00, 2.3697e-01, 0.0000e+00, 0.0000e+00, 0.0000e+00, 7.4091e-02,\n",
       "         3.8621e-03, 8.2295e-02, 1.9514e-01, 0.0000e+00, 0.0000e+00, 0.0000e+00,\n",
       "         4.1722e-02, 5.0495e-02, 7.0345e-03, 6.1405e-02, 0.0000e+00, 0.0000e+00,\n",
       "         0.0000e+00, 1.3391e-02, 0.0000e+00, 0.0000e+00, 0.0000e+00, 1.3805e-01,\n",
       "         0.0000e+00, 0.0000e+00, 4.4648e-02, 4.5159e-02, 0.0000e+00, 1.2900e-02,\n",
       "         0.0000e+00, 0.0000e+00, 1.3831e-01, 0.0000e+00, 0.0000e+00, 0.0000e+00,\n",
       "         0.0000e+00, 1.1866e-01, 0.0000e+00, 4.7775e-02, 0.0000e+00, 0.0000e+00,\n",
       "         0.0000e+00, 3.5409e-02, 5.6110e-02, 1.4389e-01, 0.0000e+00, 1.1292e-01,\n",
       "         0.0000e+00, 0.0000e+00, 3.7183e-01, 0.0000e+00, 0.0000e+00, 3.7183e-04,\n",
       "         0.0000e+00, 1.8746e-01, 0.0000e+00, 4.4167e-02, 1.2847e-01, 0.0000e+00,\n",
       "         0.0000e+00, 2.3179e-02, 0.0000e+00, 0.0000e+00, 0.0000e+00, 0.0000e+00,\n",
       "         0.0000e+00, 0.0000e+00, 0.0000e+00, 0.0000e+00, 0.0000e+00, 1.6559e-01,\n",
       "         0.0000e+00, 1.9078e-01, 0.0000e+00, 0.0000e+00, 0.0000e+00, 0.0000e+00,\n",
       "         1.1252e-01, 0.0000e+00, 0.0000e+00, 3.7984e-02, 8.7691e-02, 0.0000e+00,\n",
       "         0.0000e+00, 6.0574e-02, 4.4545e-02, 3.3921e-01, 2.2661e-01, 2.5991e-02,\n",
       "         6.2673e-02, 0.0000e+00, 0.0000e+00, 0.0000e+00, 2.4335e-01, 2.3276e-01,\n",
       "         0.0000e+00, 8.3660e-02, 0.0000e+00, 6.0649e-03, 0.0000e+00, 0.0000e+00,\n",
       "         0.0000e+00, 1.1898e-01, 2.0890e-01, 2.6798e-01, 1.1065e-02, 1.3167e-01,\n",
       "         0.0000e+00, 0.0000e+00, 3.0712e-02, 0.0000e+00, 1.7488e-01, 1.6828e-01,\n",
       "         0.0000e+00, 1.2164e-01, 0.0000e+00, 4.3126e-03, 0.0000e+00, 0.0000e+00,\n",
       "         0.0000e+00, 0.0000e+00, 0.0000e+00, 0.0000e+00, 0.0000e+00, 1.1115e-01,\n",
       "         0.0000e+00, 0.0000e+00, 3.1972e-01, 3.2239e-02, 2.4172e-01, 1.1185e-01,\n",
       "         0.0000e+00, 1.1324e-01, 6.3831e-02, 0.0000e+00, 3.2393e-01, 1.9608e-01,\n",
       "         2.0960e-04, 0.0000e+00, 0.0000e+00, 0.0000e+00, 1.0382e-01, 4.4830e-01,\n",
       "         9.9889e-02, 1.5945e-01, 8.6668e-02, 2.5596e-01, 1.2623e-01, 1.4922e-01,\n",
       "         2.3465e-01, 0.0000e+00, 3.1781e-02, 0.0000e+00, 1.7486e-03, 0.0000e+00,\n",
       "         7.3502e-02, 0.0000e+00, 5.6558e-02, 7.6225e-02, 0.0000e+00, 2.2364e-02,\n",
       "         1.3787e-02, 0.0000e+00, 0.0000e+00, 0.0000e+00, 1.1246e-02, 0.0000e+00,\n",
       "         0.0000e+00, 0.0000e+00, 2.0584e-04, 7.8978e-03, 1.0375e-01, 3.4670e-02,\n",
       "         2.7516e-03, 6.6565e-02, 7.2947e-02, 0.0000e+00, 0.0000e+00, 1.5420e-01,\n",
       "         0.0000e+00, 2.4550e-02, 1.4994e-01, 0.0000e+00, 6.2411e-02, 2.7135e-02,\n",
       "         0.0000e+00, 1.2307e-01, 9.8000e-02, 1.1992e-01, 0.0000e+00, 1.8618e-02,\n",
       "         0.0000e+00, 5.7115e-02, 5.3356e-02, 0.0000e+00, 8.1407e-03, 0.0000e+00,\n",
       "         5.2984e-02, 2.4927e-01, 2.5039e-02, 0.0000e+00, 0.0000e+00, 0.0000e+00,\n",
       "         2.8702e-02, 9.4739e-03, 3.2435e-02, 0.0000e+00, 7.2408e-03, 0.0000e+00,\n",
       "         5.3202e-02, 0.0000e+00, 2.1523e-01, 0.0000e+00, 8.5172e-03, 1.8250e-01,\n",
       "         0.0000e+00, 4.3697e-02, 0.0000e+00, 0.0000e+00, 0.0000e+00, 0.0000e+00,\n",
       "         2.9552e-03, 0.0000e+00, 8.5665e-02, 5.5083e-01, 1.3077e-01, 0.0000e+00,\n",
       "         9.6502e-03, 0.0000e+00, 3.9543e-02, 0.0000e+00, 0.0000e+00, 3.3924e-01,\n",
       "         1.0585e-01, 0.0000e+00, 1.1832e-02, 0.0000e+00, 0.0000e+00, 0.0000e+00,\n",
       "         1.0357e-01, 9.1138e-02, 1.8538e-01, 0.0000e+00, 1.4753e-02, 0.0000e+00,\n",
       "         4.0535e-02, 0.0000e+00, 2.1987e-02, 0.0000e+00, 3.1349e-01, 0.0000e+00,\n",
       "         0.0000e+00, 5.9572e-02, 1.4075e-01, 1.9848e-01, 6.1032e-02, 0.0000e+00,\n",
       "         0.0000e+00, 3.2108e-02, 0.0000e+00, 0.0000e+00, 0.0000e+00, 0.0000e+00,\n",
       "         3.3920e-03, 0.0000e+00, 4.3193e+03]])"
      ]
     },
     "execution_count": 29,
     "metadata": {},
     "output_type": "execute_result"
    }
   ],
   "source": [
    "y"
   ]
  },
  {
   "cell_type": "code",
   "execution_count": 168,
   "id": "ef8cf960",
   "metadata": {},
   "outputs": [
    {
     "data": {
      "text/plain": [
       "tensor([0.9732], grad_fn=<SumBackward1>)"
      ]
     },
     "execution_count": 168,
     "metadata": {},
     "output_type": "execute_result"
    }
   ],
   "source": [
    "target=img.unsqueeze(0).flatten(start_dim=1)\n",
    "preds=y[0].flatten(start_dim=1)\n",
    "rec_cosine = F.cosine_similarity(target,preds,dim=1)\n",
    "euc=relative_euclidean_distance(preds,target,eps=1e-7)\n",
    "#rec_cosine\n",
    "rec_cosine"
   ]
  },
  {
   "cell_type": "code",
   "execution_count": 151,
   "id": "02970f4a",
   "metadata": {},
   "outputs": [
    {
     "data": {
      "text/plain": [
       "tensor(523.8221, grad_fn=<MeanBackward1>)"
      ]
     },
     "execution_count": 151,
     "metadata": {},
     "output_type": "execute_result"
    }
   ],
   "source": [
    "loss = F.mse_loss(preds, target, reduction=\"none\")\n",
    "recons_loss  = loss.sum(dim=[1]).mean(dim=[0])\n",
    "recons_loss"
   ]
  },
  {
   "cell_type": "code",
   "execution_count": 47,
   "id": "51aa5eb7",
   "metadata": {},
   "outputs": [
    {
     "data": {
      "text/plain": [
       "(torch.Size([1, 514]), tensor([0.1263, 0.9923]))"
      ]
     },
     "execution_count": 47,
     "metadata": {},
     "output_type": "execute_result"
    }
   ],
   "source": [
    "y.shape,y[0,512:]"
   ]
  },
  {
   "cell_type": "code",
   "execution_count": 48,
   "id": "f6e29d9e",
   "metadata": {},
   "outputs": [],
   "source": [
    "out=transforms.ToPILImage()(y[0].squeeze(0))"
   ]
  },
  {
   "cell_type": "code",
   "execution_count": 49,
   "id": "162d71b6",
   "metadata": {},
   "outputs": [
    {
     "data": {
      "image/png": "[encoded data removed]",
      "text/plain": [
       "<PIL.Image.Image image mode=RGB size=128x128 at 0x7FE620C26700>"
      ]
     },
     "execution_count": 49,
     "metadata": {},
     "output_type": "execute_result"
    }
   ],
   "source": [
    "out"
   ]
  },
  {
   "cell_type": "code",
   "execution_count": null,
   "id": "4689f0f8",
   "metadata": {},
   "outputs": [],
   "source": []
  }
 ],
 "metadata": {
  "kernelspec": {
   "display_name": "Python 3.9.13 ('pytorch_p39')",
   "language": "python",
   "name": "python3"
  },
  "language_info": {
   "codemirror_mode": {
    "name": "ipython",
    "version": 3
   },
   "file_extension": ".py",
   "mimetype": "text/x-python",
   "name": "python",
   "nbconvert_exporter": "python",
   "pygments_lexer": "ipython3",
   "version": "3.9.13"
  },
  "vscode": {
   "interpreter": {
    "hash": "1f4a227f2552de404565d6626d9115986c409361ad6ef0bf195ad88ccd012b73"
   }
  }
 },
 "nbformat": 4,
 "nbformat_minor": 5
}
