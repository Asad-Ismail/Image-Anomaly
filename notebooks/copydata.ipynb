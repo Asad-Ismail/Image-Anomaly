{
 "cells": [
  {
   "cell_type": "code",
   "execution_count": 4,
   "id": "3c2a8acd",
   "metadata": {},
   "outputs": [],
   "source": [
    "import os,sys\n",
    "import cv2\n",
    "import numpy as np\n",
    "import shutil"
   ]
  },
  {
   "cell_type": "code",
   "execution_count": 5,
   "id": "cc865223",
   "metadata": {},
   "outputs": [],
   "source": [
    "import os\n",
    "copiedfiles=0\n",
    "root = \"/home/ec2-user/SageMaker/cadc_devkit/data\"\n",
    "dst=\"/home/ec2-user/SageMaker/AnamolyData/val/images/anamoly\"\n",
    "for path, subdirs, files in os.walk(root):\n",
    "    for name in files:\n",
    "        if name.endswith((\".jpg\",\".png\",\".jpeg\")):\n",
    "            source=os.path.join(path, name)\n",
    "            destination=os.path.join(dst, name)\n",
    "            shutil.copy(source, destination)\n",
    "            copiedfiles+=1"
   ]
  },
  {
   "cell_type": "code",
   "execution_count": 6,
   "id": "d1870e03",
   "metadata": {},
   "outputs": [
    {
     "data": {
      "text/plain": [
       "1600"
      ]
     },
     "execution_count": 6,
     "metadata": {},
     "output_type": "execute_result"
    }
   ],
   "source": [
    "copiedfiles"
   ]
  },
  {
   "cell_type": "code",
   "execution_count": 7,
   "id": "d338f971",
   "metadata": {},
   "outputs": [],
   "source": [
    "## Delete some validation images"
   ]
  },
  {
   "cell_type": "code",
   "execution_count": 12,
   "id": "47922416",
   "metadata": {},
   "outputs": [],
   "source": [
    "val_dir=\"/home/ec2-user/SageMaker/AnamolyData/val/images/normal\"\n",
    "keep=100\n",
    "for i,fl in enumerate(os.listdir(val_dir)):\n",
    "    if fl.endswith((\".jpg\",\".png\",\".jpeg\")) and i<4910:\n",
    "        os.remove(f\"{val_dir}/{fl}\")"
   ]
  },
  {
   "cell_type": "code",
   "execution_count": null,
   "id": "71fce2aa",
   "metadata": {},
   "outputs": [],
   "source": []
  }
 ],
 "metadata": {
  "kernelspec": {
   "display_name": "Python 3.9.13 ('pytorch_p39')",
   "language": "python",
   "name": "python3"
  },
  "language_info": {
   "codemirror_mode": {
    "name": "ipython",
    "version": 3
   },
   "file_extension": ".py",
   "mimetype": "text/x-python",
   "name": "python",
   "nbconvert_exporter": "python",
   "pygments_lexer": "ipython3",
   "version": "3.9.13"
  },
  "vscode": {
   "interpreter": {
    "hash": "1f4a227f2552de404565d6626d9115986c409361ad6ef0bf195ad88ccd012b73"
   }
  }
 },
 "nbformat": 4,
 "nbformat_minor": 5
}
