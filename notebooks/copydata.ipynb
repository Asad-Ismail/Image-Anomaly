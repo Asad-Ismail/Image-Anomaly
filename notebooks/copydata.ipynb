{
 "cells": [
  {
   "cell_type": "code",
   "execution_count": 2,
   "id": "3c2a8acd",
   "metadata": {},
   "outputs": [],
   "source": [
    "import os,sys\n",
    "import cv2\n",
    "import numpy as np\n",
    "import shutil"
   ]
  },
  {
   "cell_type": "code",
   "execution_count": 7,
   "id": "cc865223",
   "metadata": {},
   "outputs": [],
   "source": [
    "import os\n",
    "copiedfiles=0\n",
    "root = \"/home/ec2-user/SageMaker/cadc_devkit/data\"\n",
    "dst=\"/home/ec2-user/SageMaker/AnamolyData/val/images/anamoly\"\n",
    "for path, subdirs, files in os.walk(root):\n",
    "    for name in files:\n",
    "        if name.endswith((\".jpg\",\".png\",\".jpeg\")):\n",
    "            source=os.path.join(path, name)\n",
    "            destination=os.path.join(dst, name)\n",
    "            shutil.copy(source, destination)\n",
    "            copiedfiles+=1"
   ]
  },
  {
   "cell_type": "code",
   "execution_count": 8,
   "id": "d1870e03",
   "metadata": {},
   "outputs": [
    {
     "data": {
      "text/plain": [
       "1600"
      ]
     },
     "execution_count": 8,
     "metadata": {},
     "output_type": "execute_result"
    }
   ],
   "source": [
    "copiedfiles"
   ]
  },
  {
   "cell_type": "code",
   "execution_count": null,
   "id": "d338f971",
   "metadata": {},
   "outputs": [],
   "source": []
  }
 ],
 "metadata": {
  "kernelspec": {
   "display_name": "conda_pytorch_p39",
   "language": "python",
   "name": "conda_pytorch_p39"
  },
  "language_info": {
   "codemirror_mode": {
    "name": "ipython",
    "version": 3
   },
   "file_extension": ".py",
   "mimetype": "text/x-python",
   "name": "python",
   "nbconvert_exporter": "python",
   "pygments_lexer": "ipython3",
   "version": "3.9.13"
  }
 },
 "nbformat": 4,
 "nbformat_minor": 5
}
