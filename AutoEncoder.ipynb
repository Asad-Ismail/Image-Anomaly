{
 "cells": [
  {
   "cell_type": "code",
   "execution_count": null,
   "id": "d2c7f45a",
   "metadata": {},
   "outputs": [],
   "source": [
    "!pip install pytorch-lightning\n",
    "!pip install tensorboard\n",
    "!pip install timm"
   ]
  },
  {
   "cell_type": "code",
   "execution_count": 4,
   "id": "4a8ec369",
   "metadata": {},
   "outputs": [
    {
     "name": "stderr",
     "output_type": "stream",
     "text": [
      "/tmp/ipykernel_18370/354987388.py:11: DeprecationWarning: `set_matplotlib_formats` is deprecated since IPython 7.23, directly use `matplotlib_inline.backend_inline.set_matplotlib_formats()`\n",
      "  set_matplotlib_formats('svg', 'pdf') # For export\n",
      "Global seed set to 42\n"
     ]
    },
    {
     "name": "stdout",
     "output_type": "stream",
     "text": [
      "The tensorboard extension is already loaded. To reload it, use:\n",
      "  %reload_ext tensorboard\n",
      "Device: cuda:0\n"
     ]
    }
   ],
   "source": [
    "## Standard libraries\n",
    "import os\n",
    "import json\n",
    "import math\n",
    "import numpy as np\n",
    "\n",
    "## Imports for plotting\n",
    "import matplotlib.pyplot as plt\n",
    "%matplotlib inline\n",
    "from IPython.display import set_matplotlib_formats\n",
    "set_matplotlib_formats('svg', 'pdf') # For export\n",
    "from matplotlib.colors import to_rgb\n",
    "import matplotlib\n",
    "matplotlib.rcParams['lines.linewidth'] = 2.0\n",
    "import seaborn as sns\n",
    "sns.reset_orig()\n",
    "sns.set()\n",
    "\n",
    "## Progress bar\n",
    "from tqdm.notebook import tqdm\n",
    "\n",
    "## PyTorch\n",
    "import torch\n",
    "import torch.nn as nn\n",
    "import torch.nn.functional as F\n",
    "import torch.utils.data as data\n",
    "import torch.optim as optim\n",
    "# Torchvision\n",
    "import torchvision\n",
    "from torchvision import transforms\n",
    "# PyTorch Lightning\n",
    "\n",
    "import pytorch_lightning as pl\n",
    "from pytorch_lightning.callbacks import LearningRateMonitor, ModelCheckpoint\n",
    "\n",
    "# Tensorboard extension (for visualization purposes later)\n",
    "from torch.utils.tensorboard import SummaryWriter\n",
    "%load_ext tensorboard\n",
    "\n",
    "# Setting the seed\n",
    "pl.seed_everything(42)\n",
    "\n",
    "# Ensure that all operations are deterministic on GPU (if used) for reproducibility\n",
    "torch.backends.cudnn.deterministic = True\n",
    "torch.backends.cudnn.benchmark = False\n",
    "\n",
    "device = torch.device('cuda:0') if torch.cuda.is_available() else torch.device(\"cpu\")\n",
    "print(\"Device:\", device)"
   ]
  },
  {
   "cell_type": "code",
   "execution_count": 5,
   "id": "f2c5d39c",
   "metadata": {},
   "outputs": [],
   "source": [
    "#!pip install pytorch-lightning"
   ]
  },
  {
   "cell_type": "code",
   "execution_count": 6,
   "id": "a33c441d",
   "metadata": {},
   "outputs": [],
   "source": [
    "from torchvision import datasets, transforms"
   ]
  },
  {
   "cell_type": "code",
   "execution_count": 7,
   "id": "a8782801",
   "metadata": {},
   "outputs": [],
   "source": [
    "train_dir = '../AnamolyData/train/images' # load from Kaggle\n",
    "val_dir= '../AnamolyData/val/images'\n",
    "transform = transforms.Compose([transforms.Resize((512,512)),\n",
    "                                transforms.ToTensor(),\n",
    "                                transforms.Normalize([0.5, 0.5, 0.5], \n",
    "                                                            [0.5, 0.5, 0.5])\n",
    "                               ])\n",
    "train_dataset = datasets.ImageFolder(train_dir, transform=transform)\n",
    "train_loader = torch.utils.data.DataLoader(train_dataset, batch_size=18, shuffle=True,drop_last=True) \n",
    "val_dataset = datasets.ImageFolder(val_dir, transform=transform)\n",
    "val_loader = torch.utils.data.DataLoader(val_dataset, batch_size=18, shuffle=True,drop_last=True)\n",
    "def get_train_images(num):\n",
    "    return torch.stack([train_dataset[i][0] for i in range(num)], dim=0)"
   ]
  },
  {
   "cell_type": "code",
   "execution_count": null,
   "id": "c71176b3",
   "metadata": {},
   "outputs": [],
   "source": [
    "for batch in train_loader:\n",
    "    print(batch[0].shape)\n",
    "    print(batch[0].min())\n",
    "    print(batch[0].max())\n",
    "    break"
   ]
  },
  {
   "cell_type": "code",
   "execution_count": 8,
   "id": "84e07b63",
   "metadata": {},
   "outputs": [],
   "source": [
    "import torch\n",
    "import timm"
   ]
  },
  {
   "cell_type": "code",
   "execution_count": null,
   "id": "8c361d4a",
   "metadata": {},
   "outputs": [],
   "source": [
    "model_names = timm.list_models('*vgg*')\n",
    "model_names"
   ]
  },
  {
   "cell_type": "code",
   "execution_count": null,
   "id": "d8376bf2",
   "metadata": {},
   "outputs": [],
   "source": [
    "encoder = timm.create_model('vgg19_bn',features_only=True, pretrained=True)"
   ]
  },
  {
   "cell_type": "code",
   "execution_count": null,
   "id": "80d3788f",
   "metadata": {},
   "outputs": [],
   "source": [
    "o = encoder(torch.randn(2, 3, 512, 512))\n",
    "for x in o:\n",
    "    print(x.shape)"
   ]
  },
  {
   "cell_type": "code",
   "execution_count": null,
   "id": "837f9fae",
   "metadata": {},
   "outputs": [],
   "source": [
    "encoder=timm.create_model('repvgg_b3',features_only=True, pretrained=False)"
   ]
  },
  {
   "cell_type": "code",
   "execution_count": null,
   "id": "74228371",
   "metadata": {},
   "outputs": [],
   "source": [
    "o = encoder(torch.randn(2, 3, 512, 512))\n",
    "for x in o:\n",
    "    print(x.shape)"
   ]
  },
  {
   "cell_type": "code",
   "execution_count": 9,
   "id": "9573726f",
   "metadata": {},
   "outputs": [],
   "source": [
    "CHECKPOINT_PATH=\"anamoly_checkpoints\"\n",
    "os.makedirs(CHECKPOINT_PATH, exist_ok=True)"
   ]
  },
  {
   "cell_type": "code",
   "execution_count": 10,
   "id": "d38d54bf",
   "metadata": {},
   "outputs": [],
   "source": [
    "class Encoder(nn.Module):\n",
    "\n",
    "    def __init__(self):\n",
    "        super().__init__()\n",
    "        self.encoder = timm.create_model('vgg19_bn',features_only=True, pretrained=False)\n",
    "\n",
    "\n",
    "    def forward(self, x):\n",
    "        return self.encoder(x)[-1]"
   ]
  },
  {
   "cell_type": "code",
   "execution_count": 11,
   "id": "960058be",
   "metadata": {},
   "outputs": [],
   "source": [
    "class Decoder(nn.Module):\n",
    "\n",
    "    def __init__(self,\n",
    "                 num_input_channels : int,\n",
    "                 c_hid : int,\n",
    "                 act_fn : object = nn.GELU):\n",
    "        \"\"\"\n",
    "        Inputs:\n",
    "            - num_input_channels : Number of channels of the image to reconstruct. For CIFAR, this parameter is 3\n",
    "            - base_channel_size : Number of channels we use in the last convolutional layers. Early layers might use a duplicate of it.\n",
    "            - latent_dim : Dimensionality of latent representation z\n",
    "            - act_fn : Activation function used throughout the decoder network\n",
    "        \"\"\"\n",
    "        super().__init__()\n",
    "        \n",
    "        inter1=c_hid//2\n",
    "        inter2=inter1//2\n",
    "        inter3=inter2//2\n",
    "        \n",
    "        self.net = nn.Sequential(\n",
    "            nn.ConvTranspose2d(c_hid, c_hid, kernel_size=3, output_padding=1, padding=1, stride=2), # 16x16 => 32x32\n",
    "            act_fn(),\n",
    "            nn.Conv2d(c_hid, c_hid, kernel_size=3, padding=1),\n",
    "            act_fn(),\n",
    "            nn.Conv2d(c_hid, c_hid, kernel_size=3, padding=1),\n",
    "            act_fn(),\n",
    "            nn.Conv2d(c_hid, c_hid, kernel_size=3, padding=1),\n",
    "            act_fn(),\n",
    "            nn.Conv2d(c_hid, c_hid, kernel_size=3, padding=1),\n",
    "            act_fn(),\n",
    "            nn.Conv2d(c_hid, c_hid, kernel_size=3, padding=1),\n",
    "            act_fn(),\n",
    "            nn.ConvTranspose2d(c_hid, inter1, kernel_size=3, output_padding=1, padding=1, stride=2), # 32x32 => 64x64\n",
    "            act_fn(),\n",
    "            nn.Conv2d(inter1, inter1, kernel_size=3, padding=1),\n",
    "            act_fn(),\n",
    "            nn.Conv2d(inter1, inter1, kernel_size=3, padding=1),\n",
    "            act_fn(),\n",
    "            nn.Conv2d(inter1, inter1, kernel_size=3, padding=1),\n",
    "            act_fn(),\n",
    "            nn.Conv2d(inter1, inter1, kernel_size=3, padding=1),\n",
    "            act_fn(),\n",
    "            nn.Conv2d(inter1, inter1, kernel_size=3, padding=1),\n",
    "            act_fn(),\n",
    "            nn.Conv2d(inter1, inter1, kernel_size=3, padding=1),\n",
    "            act_fn(),\n",
    "            nn.ConvTranspose2d( inter1, inter2, kernel_size=3, output_padding=1, padding=1, stride=2), # 64x64 => 128x128\n",
    "            act_fn(),\n",
    "            nn.Conv2d(inter2, inter2, kernel_size=3, padding=1),\n",
    "            act_fn(),\n",
    "            nn.Conv2d(inter2, inter2, kernel_size=3, padding=1),\n",
    "            act_fn(),\n",
    "            nn.Conv2d(inter2, inter2, kernel_size=3, padding=1),\n",
    "            act_fn(),\n",
    "            nn.Conv2d(inter2, inter2, kernel_size=3, padding=1),\n",
    "            act_fn(),\n",
    "            nn.Conv2d(inter2, inter2, kernel_size=3, padding=1),\n",
    "            act_fn(),\n",
    "            nn.ConvTranspose2d(inter2, inter3, kernel_size=3, output_padding=1, padding=1, stride=2), # 128x128 => 256x256\n",
    "            act_fn(),\n",
    "            nn.Conv2d(inter3, inter3, kernel_size=3, padding=1),\n",
    "            act_fn(),\n",
    "            nn.Conv2d(inter3, inter3, kernel_size=3, padding=1),\n",
    "            act_fn(),\n",
    "            nn.Conv2d(inter3, inter3, kernel_size=3, padding=1),\n",
    "            act_fn(),\n",
    "            nn.Conv2d(inter3, inter3, kernel_size=3, padding=1),\n",
    "            act_fn(),\n",
    "            nn.Conv2d(inter3, inter3, kernel_size=3, padding=1),\n",
    "            act_fn(),\n",
    "            nn.ConvTranspose2d(inter3, num_input_channels, kernel_size=3, output_padding=1, padding=1, stride=2), # 256x256 => 512x512\n",
    "            act_fn(),\n",
    "            nn.Conv2d(num_input_channels, num_input_channels, kernel_size=3, padding=1),\n",
    "            nn.Tanh() # The input images is scaled between -1 and 1, hence the output has to be bounded as well\n",
    "        )\n",
    "\n",
    "    def forward(self, x):\n",
    "        x = self.net(x)\n",
    "        return x"
   ]
  },
  {
   "cell_type": "code",
   "execution_count": 12,
   "id": "13f146cb",
   "metadata": {},
   "outputs": [],
   "source": [
    "class Autoencoder(pl.LightningModule):\n",
    "\n",
    "    def __init__(self,\n",
    "                 latent_dim: int,\n",
    "                 encoder_class : object = Encoder,\n",
    "                 decoder_class : object = Decoder,\n",
    "                 num_input_channels: int = 3,\n",
    "                 width:int= 512,\n",
    "                 height:int= 512):\n",
    "        super().__init__()\n",
    "        # Saving hyperparameters of autoencoder\n",
    "        self.save_hyperparameters()\n",
    "        # Creating encoder and decoder\n",
    "        self.encoder = encoder_class()\n",
    "        self.decoder = decoder_class(num_input_channels, latent_dim)\n",
    "        self.inception= timm.create_model('vgg19_bn',features_only=True, pretrained=True)\n",
    "        # Example input array needed for visualizing the graph of the network\n",
    "        self.example_input_array = torch.zeros(2, num_input_channels, width, height)\n",
    "\n",
    "    def forward(self, x):\n",
    "        \"\"\"\n",
    "        The forward function takes in an image and returns the reconstructed image\n",
    "        \"\"\"\n",
    "        z = self.encoder(x)\n",
    "        x_hat = self.decoder(z)\n",
    "        return x_hat\n",
    "\n",
    "    def _get_reconstruction_loss(self, batch):\n",
    "        \"\"\"\n",
    "        Given a batch of images, this function returns the reconstruction loss (MSE in our case)\n",
    "        \"\"\"\n",
    "        x, _ = batch # We do not need the labels\n",
    "        x_hat = self.forward(x)\n",
    "        loss = F.mse_loss(x, x_hat, reduction=\"none\")\n",
    "        loss = loss.sum(dim=[1,2,3]).mean(dim=[0])\n",
    "        return loss\n",
    "    \n",
    "    @torch.no_grad()\n",
    "    def _get_inception(self,x):\n",
    "        z=self.inception(x)[-1]\n",
    "        return z\n",
    "    \n",
    "    def _get_inception_loss(self,batch):\n",
    "        x, _ = batch # We do not need the labels\n",
    "        z_hat = self.encoder(x)\n",
    "        z=self._get_inception(x)\n",
    "        loss = F.mse_loss(z, z_hat, reduction=\"none\")\n",
    "        loss = loss.sum(dim=[1,2,3]).mean(dim=[0])\n",
    "        return loss\n",
    "\n",
    "    def configure_optimizers(self):\n",
    "        optimizer = optim.Adam(self.parameters(), lr=1e-3)\n",
    "        # Using a scheduler is optional but can be helpful.\n",
    "        # The scheduler reduces the LR if the validation performance hasn't improved for the last N epochs\n",
    "        scheduler = optim.lr_scheduler.ReduceLROnPlateau(optimizer,\n",
    "                                                         mode='min',\n",
    "                                                         factor=0.2,\n",
    "                                                         patience=20,\n",
    "                                                         min_lr=5e-5)\n",
    "        return {\"optimizer\": optimizer, \"lr_scheduler\": scheduler, \"monitor\": \"val_loss\"}\n",
    "\n",
    "    def training_step(self, batch, batch_idx):\n",
    "        loss1 = self._get_reconstruction_loss(batch)\n",
    "        loss2 = self._get_inception_loss(batch)\n",
    "        loss=loss1+loss2\n",
    "        self.log('train_loss', loss)\n",
    "        return loss\n",
    "\n",
    "    def validation_step(self, batch, batch_idx):\n",
    "        loss = self._get_reconstruction_loss(batch)\n",
    "        self.log('val_loss', loss)\n",
    "\n",
    "    def test_step(self, batch, batch_idx):\n",
    "        loss = self._get_reconstruction_loss(batch)\n",
    "        self.log('test_loss', loss)"
   ]
  },
  {
   "cell_type": "code",
   "execution_count": 13,
   "id": "d23eee08",
   "metadata": {},
   "outputs": [
    {
     "name": "stderr",
     "output_type": "stream",
     "text": [
      "Downloading: \"https://download.pytorch.org/models/vgg19_bn-c79401a0.pth\" to /home/ec2-user/.cache/torch/hub/checkpoints/vgg19_bn-c79401a0.pth\n"
     ]
    }
   ],
   "source": [
    "## Model evaluation\n",
    "weights=\"../anamoly_checkpoints/anamoly_road_512/lightning_logs/version_7/checkpoints/epoch=20-step=431046.ckpt\"\n",
    "model = Autoencoder.load_from_checkpoint(weights)"
   ]
  },
  {
   "cell_type": "code",
   "execution_count": 14,
   "id": "5afdf3c6",
   "metadata": {},
   "outputs": [],
   "source": [
    "class GenerateCallback(pl.Callback):\n",
    "\n",
    "    def __init__(self, input_imgs, every_n_epochs=1):\n",
    "        super().__init__()\n",
    "        self.input_imgs = input_imgs # Images to reconstruct during training\n",
    "        self.every_n_epochs = every_n_epochs # Only save those images every N epochs (otherwise tensorboard gets quite large)\n",
    "\n",
    "    def on_train_epoch_end(self, trainer, pl_module):\n",
    "        if trainer.current_epoch % self.every_n_epochs == 0:\n",
    "            # Reconstruct images\n",
    "            input_imgs = self.input_imgs.to(pl_module.device)\n",
    "            with torch.no_grad():\n",
    "                pl_module.eval()\n",
    "                reconst_imgs = pl_module(input_imgs)\n",
    "                pl_module.train()\n",
    "            # Plot and add to tensorboard\n",
    "            imgs = torch.stack([input_imgs, reconst_imgs], dim=1).flatten(0,1)\n",
    "            grid = torchvision.utils.make_grid(imgs, nrow=2, normalize=True, range=(-1,1))\n",
    "            trainer.logger.experiment.add_image(\"Reconstructions\", grid, global_step=trainer.global_step)"
   ]
  },
  {
   "cell_type": "code",
   "execution_count": 15,
   "id": "5bfa6ffb",
   "metadata": {},
   "outputs": [],
   "source": [
    "def train_Anamoly(latent_dim):\n",
    "    # Create a PyTorch Lightning trainer with the generation callback\n",
    "    trainer = pl.Trainer(default_root_dir=os.path.join(CHECKPOINT_PATH, f\"anamoly_road_{latent_dim}\"),\n",
    "                         accelerator=\"cuda\" if str(device).startswith(\"cuda\") else \"cpu\",\n",
    "                         devices=1,\n",
    "                         max_epochs=1000,\n",
    "                         callbacks=[ModelCheckpoint(save_weights_only=True),\n",
    "                                    GenerateCallback(get_train_images(8), every_n_epochs=10),\n",
    "                                    LearningRateMonitor(\"epoch\")])\n",
    "    trainer.logger._log_graph = True         # If True, we plot the computation graph in tensorboard\n",
    "    trainer.logger._default_hp_metric = None # Optional logging argument that we don't need\n",
    "\n",
    "    # Check whether pretrained model exists. If yes, load it and skip training\n",
    "    pretrained_filename = os.path.join(CHECKPOINT_PATH, f\"anamoly_road_{latent_dim}.ckpt\")\n",
    "    if os.path.isfile(pretrained_filename):\n",
    "        print(\"Found pretrained model, loading...\")\n",
    "        model = Autoencoder.load_from_checkpoint(pretrained_filename)\n",
    "    else:\n",
    "        model = Autoencoder(latent_dim=latent_dim)\n",
    "        trainer.fit(model, train_loader, val_loader)\n",
    "    # Test best model on validation and test set\n",
    "    val_result = trainer.test(model, val_loader, verbose=False)\n",
    "    #test_result = trainer.test(model, test_loader, verbose=False)\n",
    "    result = {\"val\": val_result}\n",
    "    return model, result"
   ]
  },
  {
   "cell_type": "code",
   "execution_count": null,
   "id": "113c60d3",
   "metadata": {},
   "outputs": [],
   "source": [
    "train_Anamoly(latent_dim=512)"
   ]
  },
  {
   "cell_type": "code",
   "execution_count": 16,
   "id": "43b3a9c7",
   "metadata": {},
   "outputs": [],
   "source": [
    "from utils import *"
   ]
  },
  {
   "cell_type": "code",
   "execution_count": 17,
   "id": "8f674bde",
   "metadata": {},
   "outputs": [],
   "source": [
    "def estimate_gaussian(X): \n",
    "    \"\"\"\n",
    "    Calculates mean and variance of all features \n",
    "    in the dataset\n",
    "    \n",
    "    Args:\n",
    "        X (ndarray): (m, n) Data matrix\n",
    "    \n",
    "    Returns:\n",
    "        mu (ndarray): (n,) Mean of all features\n",
    "        var (ndarray): (n,) Variance of all features\n",
    "    \"\"\"\n",
    "\n",
    "    m, n = X.shape\n",
    "    mu= np.mean(X,axis=0)\n",
    "    var= np.var(X,axis=0) \n",
    "    return mu, var"
   ]
  },
  {
   "cell_type": "code",
   "execution_count": null,
   "id": "97c3e6a9",
   "metadata": {},
   "outputs": [
    {
     "data": {
      "application/vnd.jupyter.widget-view+json": {
       "model_id": "7f675fca3b2c4361b8064730721ada2f",
       "version_major": 2,
       "version_minor": 0
      },
      "text/plain": [
       "  0%|          | 0/6842 [00:00<?, ?it/s]"
      ]
     },
     "metadata": {},
     "output_type": "display_data"
    }
   ],
   "source": [
    "## Train features for checking \n",
    "train_features=[]\n",
    "for i,item in enumerate(tqdm(train_loader)):\n",
    "    x,y=item[0],item[1]\n",
    "    model.cuda()\n",
    "    model.eval()\n",
    "    x=x.cuda()\n",
    "    #x=x.unsqueeze(0)\n",
    "    y=model.encoder(x).detach().cpu()\n",
    "    train_features.append(y.flatten(start_dim=1).numpy())"
   ]
  },
  {
   "cell_type": "code",
   "execution_count": null,
   "id": "d914f9e9",
   "metadata": {},
   "outputs": [],
   "source": [
    "train_features=np.concatenate(train_features)"
   ]
  },
  {
   "cell_type": "code",
   "execution_count": null,
   "id": "793aa4c5",
   "metadata": {},
   "outputs": [],
   "source": [
    "with open('train_features.npy', 'wb') as f:\n",
    "    np.save(f, train_features)"
   ]
  },
  {
   "cell_type": "code",
   "execution_count": null,
   "id": "eec4509d",
   "metadata": {},
   "outputs": [],
   "source": [
    "mu, var = estimate_gaussian(train_features)  "
   ]
  },
  {
   "cell_type": "code",
   "execution_count": null,
   "id": "bc233b3d",
   "metadata": {},
   "outputs": [],
   "source": [
    "## Normal distribution should look like this\n",
    "p_train = multivariate_gaussian(train_features, mu, var)"
   ]
  },
  {
   "cell_type": "code",
   "execution_count": null,
   "id": "aa17e0cf",
   "metadata": {},
   "outputs": [],
   "source": [
    "## Val features and labels for picking the best threshold\n",
    "val_features=[]\n",
    "y_val=[]\n",
    "for i,item in enumerate(tqdm(val_loader)):\n",
    "    x,y=item[0],item[1]\n",
    "    model.cuda()\n",
    "    model.eval()\n",
    "    x=x.cuda()\n",
    "    #x=x.unsqueeze(0)\n",
    "    y=model.encoder(x).detach().cpu()\n",
    "    val_features.append(y.flatten(start_dim=1).numpy())\n",
    "    y_val.append(y_val.detch().cpu().numpy())\n",
    "val_features=np.concatenate(val_features)\n",
    "y_val=np.concatenate(y_val)"
   ]
  },
  {
   "cell_type": "code",
   "execution_count": null,
   "id": "1379b95d",
   "metadata": {},
   "outputs": [],
   "source": [
    "## Data Out of distribution looks like this\n",
    "p_val = multivariate_gaussian(val_features, mu, var)"
   ]
  },
  {
   "cell_type": "code",
   "execution_count": null,
   "id": "733c68fb",
   "metadata": {},
   "outputs": [],
   "source": [
    "epsilon, F1 = select_threshold(y_val, p_val)\n",
    "print('Best epsilon found using cross-validation: %e' % epsilon)\n",
    "print('Best F1 on Cross Validation Set: %f' % F1)"
   ]
  }
 ],
 "metadata": {
  "kernelspec": {
   "display_name": "conda_pytorch_p38",
   "language": "python",
   "name": "conda_pytorch_p38"
  },
  "language_info": {
   "codemirror_mode": {
    "name": "ipython",
    "version": 3
   },
   "file_extension": ".py",
   "mimetype": "text/x-python",
   "name": "python",
   "nbconvert_exporter": "python",
   "pygments_lexer": "ipython3",
   "version": "3.8.12"
  },
  "vscode": {
   "interpreter": {
    "hash": "591ade058296000ef487104c42d37478df75296e039f312fe940d4accf2fd7b8"
   }
  }
 },
 "nbformat": 4,
 "nbformat_minor": 5
}
